{
  "nbformat": 4,
  "nbformat_minor": 0,
  "metadata": {
    "colab": {
      "name": "10_printing _and_inputing.ipynb",
      "provenance": [],
      "authorship_tag": "ABX9TyMWSUiC4Ch2+jYomrcrBaZC",
      "include_colab_link": true
    },
    "kernelspec": {
      "name": "python3",
      "display_name": "Python 3"
    }
  },
  "cells": [
    {
      "cell_type": "markdown",
      "metadata": {
        "id": "view-in-github",
        "colab_type": "text"
      },
      "source": [
        "<a href=\"https://colab.research.google.com/github/LexLive/master_python_by_solving_scientific_projects/blob/main/10_printing__and_inputing.ipynb\" target=\"_parent\"><img src=\"https://colab.research.google.com/assets/colab-badge.svg\" alt=\"Open In Colab\"/></a>"
      ]
    },
    {
      "cell_type": "code",
      "metadata": {
        "colab": {
          "base_uri": "https://localhost:8080/"
        },
        "id": "sjqYhugy42rj",
        "outputId": "6ee10d9c-72ce-4862-a9f2-b93d45b94c43"
      },
      "source": [
        "x = 4\r\n",
        "y = 5\r\n",
        "\r\n",
        "print( str(x) + ' times ' + str(y) + ' equals ' + str(x*y) )"
      ],
      "execution_count": 5,
      "outputs": [
        {
          "output_type": "stream",
          "text": [
            "4 times 5 equals 20\n"
          ],
          "name": "stdout"
        }
      ]
    },
    {
      "cell_type": "code",
      "metadata": {
        "colab": {
          "base_uri": "https://localhost:8080/"
        },
        "id": "UfnaX79g4_98",
        "outputId": "4f701ae5-9551-488e-fa30-b3528a1acfdf"
      },
      "source": [
        "ans = input('Feed me a stray cat. ')\r\n",
        "ans = float(ans)\r\n",
        "print(ans)"
      ],
      "execution_count": 16,
      "outputs": [
        {
          "output_type": "stream",
          "text": [
            "Feed me a stray cat. 555\n",
            "555.0\n"
          ],
          "name": "stdout"
        }
      ]
    },
    {
      "cell_type": "code",
      "metadata": {
        "colab": {
          "base_uri": "https://localhost:8080/"
        },
        "id": "FcV3eVxO6UXK",
        "outputId": "56eb8e8c-27b3-4285-f28c-1d09d178e8b9"
      },
      "source": [
        "# Exercise\r\n",
        "# Pythagorean theorem: a**2 + b**2 = c**2\r\n",
        "# get two numbers from user: a, b\r\n",
        "# compute and print the length of side c\r\n",
        "\r\n",
        "side_a = float(input('Length of side a: '))\r\n",
        "side_b = float(input('Length of side b: '))\r\n",
        "sum_a_b = (side_a**2 + side_b**2)**(1/2)\r\n",
        "print( ' ' )\r\n",
        "print( 'The length of side c is ', sum_a_b)\r\n",
        "\r\n",
        "\r\n",
        "\r\n"
      ],
      "execution_count": 36,
      "outputs": [
        {
          "output_type": "stream",
          "text": [
            "Length of side a: 3.5\n",
            "Length of side b: 7.2\n",
            " \n",
            "The length of side c is  8.005623023850173\n"
          ],
          "name": "stdout"
        }
      ]
    },
    {
      "cell_type": "code",
      "metadata": {
        "id": "82SGdo0a8S4B"
      },
      "source": [
        ""
      ],
      "execution_count": null,
      "outputs": []
    }
  ]
}